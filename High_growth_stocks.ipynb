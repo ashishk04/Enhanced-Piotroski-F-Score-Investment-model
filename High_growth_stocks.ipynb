{
 "cells": [
  {
   "cell_type": "code",
   "execution_count": 15,
   "metadata": {},
   "outputs": [
    {
     "name": "stdout",
     "output_type": "stream",
     "text": [
      "The autoreload extension is already loaded. To reload it, use:\n",
      "  %reload_ext autoreload\n"
     ]
    }
   ],
   "source": [
    "import trading_kit as tk\n",
    "import importlib\n",
    "importlib.reload(tk)\n",
    "%load_ext autoreload\n",
    "%autoreload 2"
   ]
  },
  {
   "cell_type": "code",
   "execution_count": 16,
   "metadata": {},
   "outputs": [],
   "source": [
    "Balance_sheet=tk.get_financial_statement('SUZLON.NS', 'balance_sheet')\n",
    "Income_statement=tk.get_financial_statement('SUZLON.NS','income_stmt')\n",
    "Cashflow= tk.get_financial_statement('SUZLON.NS', 'cashflow')"
   ]
  },
  {
   "cell_type": "markdown",
   "metadata": {},
   "source": [
    "to find the rows of the given statement in order to correctly find the values = tk.rows('SUZLON.NS', 'balance_sheet' )"
   ]
  },
  {
   "cell_type": "code",
   "execution_count": 17,
   "metadata": {},
   "outputs": [],
   "source": [
    "#rows=tk.rows('SUZLON.NS','balance_sheet')\n",
    "#rows\n",
    "year=Balance_sheet.columns\n"
   ]
  },
  {
   "cell_type": "code",
   "execution_count": 19,
   "metadata": {},
   "outputs": [],
   "source": [
    "Basic_EPS_0= Income_statement.loc['Basic EPS', year[0]]\n",
    "Diluted_EPS_0=Income_statement.loc['Diluted EPS',year[0]]\n",
    "Basic_EPS_1= Income_statement.loc['Basic EPS',year[0]]\n",
    "Diluted_EPS_1=Income_statement.loc['Diluted EPS',year[0]]\n",
    "\n",
    "delta_diluted_eps= Diluted_EPS_0-Diluted_EPS_1\n",
    "delta_basic_eps= Basic_EPS_0-Basic_EPS_1\n",
    "EPS_growth_rate= delta_diluted_eps/Diluted_EPS_1*100\n",
    "def EPS(delta_diluted_eps):\n",
    "  if(delta_diluted_eps>0):\n",
    "    return 1\n",
    "  else:\n",
    "    return 0\n",
    "  \n",
    "F_EPS=EPS(delta_diluted_eps)  "
   ]
  },
  {
   "cell_type": "code",
   "execution_count": null,
   "metadata": {},
   "outputs": [
    {
     "data": {
      "text/plain": [
       "0.0"
      ]
     },
     "execution_count": 5,
     "metadata": {},
     "output_type": "execute_result"
    }
   ],
   "source": [
    "delta_diluted_eps"
   ]
  },
  {
   "cell_type": "code",
   "execution_count": 20,
   "metadata": {},
   "outputs": [
    {
     "data": {
      "text/plain": [
       "0.0"
      ]
     },
     "execution_count": 20,
     "metadata": {},
     "output_type": "execute_result"
    }
   ],
   "source": [
    "delta_basic_eps"
   ]
  },
  {
   "cell_type": "code",
   "execution_count": null,
   "metadata": {},
   "outputs": [
    {
     "data": {
      "text/plain": [
       "0"
      ]
     },
     "execution_count": 6,
     "metadata": {},
     "output_type": "execute_result"
    }
   ],
   "source": [
    "F_EPS"
   ]
  },
  {
   "cell_type": "code",
   "execution_count": null,
   "metadata": {},
   "outputs": [],
   "source": [
    "ROE_0= Income_statement.loc['Net Income', year[0]]/Balance_sheet.loc['Common Stock', year[0]]\n",
    "ROE_1= Income_statement.loc['Net Income', year[1]]/Balance_sheet.loc['Common Stock', year[1]]\n",
    "delta_ROE=ROE_0-ROE_1\n",
    "growth_ROE= delta_ROE/ROE_1"
   ]
  },
  {
   "cell_type": "code",
   "execution_count": null,
   "metadata": {},
   "outputs": [],
   "source": [
    "share_price= Balance_sheet.loc['Stockholders Equity', year[0]]/Balance_sheet.loc['Common Stock', year[0]]\n",
    "\n",
    "def PEG(share_price,Diluted_EPS_0,EPS_growth_rate):\n",
    "  p_E_ratio= share_price/Diluted_EPS_0\n",
    "  \n",
    "  if(EPS_growth_rate!=0):\n",
    "    peg_ratio = p_E_ratio / EPS_growth_rate\n",
    "    return f\"PEG ratio is {peg_ratio}\" \n",
    "  else:\n",
    "    return f\"EPS_growth_rate is 0 hence P/E ratio is {p_E_ratio}\"\n",
    "  \n",
    "Peg_ratio= PEG(share_price,Diluted_EPS_0,EPS_growth_rate)  "
   ]
  },
  {
   "cell_type": "code",
   "execution_count": null,
   "metadata": {},
   "outputs": [],
   "source": [
    "def ROE(delta_ROE):\n",
    "  if(delta_ROE>0):\n",
    "    return 1\n",
    "  else:\n",
    "    return 0\n",
    "  \n",
    "F_ROE=EPS(delta_ROE)"
   ]
  },
  {
   "cell_type": "code",
   "execution_count": null,
   "metadata": {},
   "outputs": [
    {
     "data": {
      "text/plain": [
       "-0.7909827612189578"
      ]
     },
     "execution_count": 10,
     "metadata": {},
     "output_type": "execute_result"
    }
   ],
   "source": [
    "F_ROE\n",
    "growth_ROE"
   ]
  },
  {
   "cell_type": "code",
   "execution_count": null,
   "metadata": {},
   "outputs": [],
   "source": [
    "sales_growth= (Income_statement.loc['Total Revenue', year[0]]-Income_statement.loc['Total Revenue', year[1]])/Income_statement.loc['Total Revenue', year[1]]*100"
   ]
  },
  {
   "cell_type": "code",
   "execution_count": null,
   "metadata": {},
   "outputs": [
    {
     "data": {
      "text/plain": [
       "9.248609345467509"
      ]
     },
     "execution_count": 12,
     "metadata": {},
     "output_type": "execute_result"
    }
   ],
   "source": [
    "sales_growth"
   ]
  },
  {
   "cell_type": "code",
   "execution_count": null,
   "metadata": {},
   "outputs": [
    {
     "data": {
      "text/plain": [
       "'EPS_growth_rate is 0 hence P/E ratio is 2.8807592257836956'"
      ]
     },
     "execution_count": 13,
     "metadata": {},
     "output_type": "execute_result"
    }
   ],
   "source": [
    "Peg_ratio"
   ]
  },
  {
   "cell_type": "code",
   "execution_count": null,
   "metadata": {},
   "outputs": [
    {
     "data": {
      "text/plain": [
       "-0.7909827612189578"
      ]
     },
     "execution_count": 14,
     "metadata": {},
     "output_type": "execute_result"
    }
   ],
   "source": [
    "growth_ROE"
   ]
  },
  {
   "cell_type": "code",
   "execution_count": 1,
   "metadata": {},
   "outputs": [],
   "source": [
    "dividend=2\n",
    "dividend_growth=0.1\n",
    "coe=0.14\n",
    "current_stock_price=64\n",
    "calculated_price= dividend*(1.1)/(0.04)"
   ]
  },
  {
   "cell_type": "code",
   "execution_count": 7,
   "metadata": {},
   "outputs": [
    {
     "name": "stdout",
     "output_type": "stream",
     "text": [
      "The calculated price of the stock is: \n"
     ]
    }
   ],
   "source": [
    "print('The calculated price of the stock is:{} '.format(round(calculated_price),2))"
   ]
  },
  {
   "cell_type": "code",
   "execution_count": 6,
   "metadata": {},
   "outputs": [
    {
     "name": "stdout",
     "output_type": "stream",
     "text": [
      "Stock is overvalued as\n"
     ]
    }
   ],
   "source": [
    "if(current_stock_price>calculated_price):\n",
    "  print('Stock is overvalued as')\n",
    "  \n",
    "else:\n",
    "  print('Stock is undervalued') "
   ]
  },
  {
   "cell_type": "code",
   "execution_count": 2,
   "metadata": {},
   "outputs": [
    {
     "name": "stdout",
     "output_type": "stream",
     "text": [
      "{'META': 400, 'JPM': 300, 'Apple': 220}\n"
     ]
    }
   ],
   "source": [
    "tech_stocks={'META':400,'JPM':300, 'Apple': 220}\n",
    "\n",
    "print(tech_stocks)"
   ]
  },
  {
   "cell_type": "code",
   "execution_count": null,
   "metadata": {},
   "outputs": [],
   "source": []
  }
 ],
 "metadata": {
  "kernelspec": {
   "display_name": "Python 3",
   "language": "python",
   "name": "python3"
  },
  "language_info": {
   "codemirror_mode": {
    "name": "ipython",
    "version": 3
   },
   "file_extension": ".py",
   "mimetype": "text/x-python",
   "name": "python",
   "nbconvert_exporter": "python",
   "pygments_lexer": "ipython3",
   "version": "3.11.9"
  }
 },
 "nbformat": 4,
 "nbformat_minor": 2
}
