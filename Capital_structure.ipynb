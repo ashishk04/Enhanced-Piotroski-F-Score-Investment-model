{
 "cells": [
  {
   "cell_type": "code",
   "execution_count": 88,
   "metadata": {},
   "outputs": [],
   "source": [
    "import numpy as np\n",
    "import yfinance as yf\n",
    "import pandas as pd\n",
    "import seaborn as sns\n",
    "import matplotlib.pyplot as print\n",
    "import trading_kit as tk\n"
   ]
  },
  {
   "cell_type": "markdown",
   "metadata": {},
   "source": []
  },
  {
   "cell_type": "markdown",
   "metadata": {},
   "source": [
    "Leverage= Total long term debt/ Avg total asset"
   ]
  },
  {
   "cell_type": "code",
   "execution_count": 89,
   "metadata": {},
   "outputs": [],
   "source": [
    "#tk.get_financial_statement('balance sheet')\n",
    "msft=yf.Ticker('SENCO.NS')\n",
    "year=msft.balance_sheet.columns\n"
   ]
  },
  {
   "cell_type": "code",
   "execution_count": 90,
   "metadata": {},
   "outputs": [],
   "source": [
    "Balance_sheet=tk.get_financial_statement('SENCO.NS', 'balance_sheet')\n",
    "Income_statement=tk.get_financial_statement('SENCO.NS','income_stmt')\n",
    "Cashflow= tk.get_financial_statement('SENCO.NS', 'cashflow')\n",
    "#total_debt= msft.balance_sheet.loc['Long Term Debt', year[0]]"
   ]
  },
  {
   "cell_type": "code",
   "execution_count": 91,
   "metadata": {},
   "outputs": [],
   "source": [
    "current_ratio= Balance_sheet.loc['Current Assets', year[0]]/Balance_sheet.loc['Current Liabilities', year[0]]"
   ]
  },
  {
   "cell_type": "code",
   "execution_count": 92,
   "metadata": {},
   "outputs": [],
   "source": [
    "delta_current_ratio= Balance_sheet.loc['Current Assets', year[0]]/Balance_sheet.loc['Current Liabilities', year[0]] - Balance_sheet.loc['Current Assets', year[1]]/Balance_sheet.loc['Current Liabilities', year[1]]"
   ]
  },
  {
   "cell_type": "code",
   "execution_count": 93,
   "metadata": {},
   "outputs": [],
   "source": [
    "def F_score(delta_current_ratio):\n",
    "\n",
    "    if delta_current_ratio > 0:\n",
    "        return 1\n",
    "    else:\n",
    "        return 0\n",
    "   \n",
    "F_liquid= F_score(delta_current_ratio)           "
   ]
  },
  {
   "cell_type": "code",
   "execution_count": 94,
   "metadata": {},
   "outputs": [
    {
     "data": {
      "text/plain": [
       "1"
      ]
     },
     "execution_count": 94,
     "metadata": {},
     "output_type": "execute_result"
    }
   ],
   "source": [
    "F_liquid"
   ]
  },
  {
   "cell_type": "code",
   "execution_count": 95,
   "metadata": {},
   "outputs": [],
   "source": [
    "delta_new_equity= Balance_sheet.loc['Stockholders Equity', year[0]]-Balance_sheet.loc['Stockholders Equity', year[1]]"
   ]
  },
  {
   "cell_type": "code",
   "execution_count": 96,
   "metadata": {},
   "outputs": [
    {
     "data": {
      "text/plain": [
       "4200220000.0"
      ]
     },
     "execution_count": 96,
     "metadata": {},
     "output_type": "execute_result"
    }
   ],
   "source": [
    "delta_new_equity"
   ]
  },
  {
   "cell_type": "code",
   "execution_count": 97,
   "metadata": {},
   "outputs": [
    {
     "data": {
      "text/plain": [
       "1"
      ]
     },
     "execution_count": 97,
     "metadata": {},
     "output_type": "execute_result"
    }
   ],
   "source": [
    "F_EQ_OFFER= F_score(delta_new_equity)\n",
    "F_EQ_OFFER"
   ]
  },
  {
   "cell_type": "code",
   "execution_count": 98,
   "metadata": {},
   "outputs": [
    {
     "data": {
      "text/plain": [
       "['Ordinary Shares Number',\n",
       " 'Share Issued',\n",
       " 'Net Debt',\n",
       " 'Total Debt',\n",
       " 'Tangible Book Value',\n",
       " 'Invested Capital',\n",
       " 'Working Capital',\n",
       " 'Net Tangible Assets',\n",
       " 'Capital Lease Obligations',\n",
       " 'Common Stock Equity',\n",
       " 'Preferred Stock Equity',\n",
       " 'Total Capitalization',\n",
       " 'Total Equity Gross Minority Interest',\n",
       " 'Stockholders Equity',\n",
       " 'Other Equity Interest',\n",
       " 'Retained Earnings',\n",
       " 'Additional Paid In Capital',\n",
       " 'Capital Stock',\n",
       " 'Common Stock',\n",
       " 'Preferred Stock',\n",
       " 'Total Liabilities Net Minority Interest',\n",
       " 'Total Non Current Liabilities Net Minority Interest',\n",
       " 'Other Non Current Liabilities',\n",
       " 'Non Current Pension And Other Postretirement Benefit Plans',\n",
       " 'Non Current Deferred Revenue',\n",
       " 'Long Term Debt And Capital Lease Obligation',\n",
       " 'Long Term Capital Lease Obligation',\n",
       " 'Long Term Debt',\n",
       " 'Long Term Provisions',\n",
       " 'Current Liabilities',\n",
       " 'Other Current Liabilities',\n",
       " 'Current Deferred Taxes Liabilities',\n",
       " 'Current Debt And Capital Lease Obligation',\n",
       " 'Current Capital Lease Obligation',\n",
       " 'Current Debt',\n",
       " 'Pensionand Other Post Retirement Benefit Plans Current',\n",
       " 'Current Provisions',\n",
       " 'Payables',\n",
       " 'Other Payable',\n",
       " 'Dividends Payable',\n",
       " 'Total Tax Payable',\n",
       " 'Accounts Payable',\n",
       " 'Total Assets',\n",
       " 'Total Non Current Assets',\n",
       " 'Other Non Current Assets',\n",
       " 'Non Current Prepaid Assets',\n",
       " 'Non Current Deferred Taxes Assets',\n",
       " 'Investmentin Financial Assets',\n",
       " 'Available For Sale Securities',\n",
       " 'Goodwill And Other Intangible Assets',\n",
       " 'Other Intangible Assets',\n",
       " 'Net PPE',\n",
       " 'Accumulated Depreciation',\n",
       " 'Gross PPE',\n",
       " 'Construction In Progress',\n",
       " 'Other Properties',\n",
       " 'Machinery Furniture Equipment',\n",
       " 'Buildings And Improvements',\n",
       " 'Land And Improvements',\n",
       " 'Properties',\n",
       " 'Current Assets',\n",
       " 'Other Current Assets',\n",
       " 'Hedging Assets Current',\n",
       " 'Restricted Cash',\n",
       " 'Prepaid Assets',\n",
       " 'Inventory',\n",
       " 'Finished Goods',\n",
       " 'Raw Materials',\n",
       " 'Other Receivables',\n",
       " 'Accounts Receivable',\n",
       " 'Allowance For Doubtful Accounts Receivable',\n",
       " 'Gross Accounts Receivable',\n",
       " 'Cash Cash Equivalents And Short Term Investments',\n",
       " 'Other Short Term Investments',\n",
       " 'Cash And Cash Equivalents',\n",
       " 'Cash Equivalents',\n",
       " 'Cash Financial']"
      ]
     },
     "execution_count": 98,
     "metadata": {},
     "output_type": "execute_result"
    }
   ],
   "source": [
    "rows= msft.balance_sheet.index.tolist()\n",
    "rows"
   ]
  },
  {
   "cell_type": "markdown",
   "metadata": {},
   "source": [
    "2 Capital structure F score"
   ]
  },
  {
   "cell_type": "code",
   "execution_count": 99,
   "metadata": {},
   "outputs": [],
   "source": [
    "delta_levrage= Balance_sheet.loc['Long Term Debt', year[0]]/Balance_sheet.loc['Total Assets', year[0]]-Balance_sheet.loc['Long Term Debt', year[1]]/Balance_sheet.loc['Total Assets', year[1]]\n",
    "\n",
    "F_leverage= F_score(delta_levrage)"
   ]
  },
  {
   "cell_type": "code",
   "execution_count": 100,
   "metadata": {},
   "outputs": [
    {
     "data": {
      "text/plain": [
       "1"
      ]
     },
     "execution_count": 100,
     "metadata": {},
     "output_type": "execute_result"
    }
   ],
   "source": [
    "F_liquid"
   ]
  },
  {
   "cell_type": "code",
   "execution_count": 101,
   "metadata": {},
   "outputs": [
    {
     "data": {
      "text/plain": [
       "1"
      ]
     },
     "execution_count": 101,
     "metadata": {},
     "output_type": "execute_result"
    }
   ],
   "source": [
    "F_EQ_OFFER"
   ]
  },
  {
   "cell_type": "code",
   "execution_count": 102,
   "metadata": {},
   "outputs": [
    {
     "data": {
      "text/plain": [
       "0"
      ]
     },
     "execution_count": 102,
     "metadata": {},
     "output_type": "execute_result"
    }
   ],
   "source": [
    "F_leverage"
   ]
  },
  {
   "cell_type": "code",
   "execution_count": null,
   "metadata": {},
   "outputs": [],
   "source": []
  }
 ],
 "metadata": {
  "kernelspec": {
   "display_name": "Python 3",
   "language": "python",
   "name": "python3"
  },
  "language_info": {
   "codemirror_mode": {
    "name": "ipython",
    "version": 3
   },
   "file_extension": ".py",
   "mimetype": "text/x-python",
   "name": "python",
   "nbconvert_exporter": "python",
   "pygments_lexer": "ipython3",
   "version": "3.11.9"
  }
 },
 "nbformat": 4,
 "nbformat_minor": 2
}
