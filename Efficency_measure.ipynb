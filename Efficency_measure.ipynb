{
 "cells": [
  {
   "cell_type": "code",
   "execution_count": 43,
   "metadata": {},
   "outputs": [],
   "source": [
    "import trading_kit as tk"
   ]
  },
  {
   "cell_type": "code",
   "execution_count": 44,
   "metadata": {},
   "outputs": [],
   "source": [
    "Balance_sheet=tk.get_financial_statement('SENCO.NS', 'balance_sheet')\n",
    "Income_statement=tk.get_financial_statement('SENCO.NS','income_stmt')\n",
    "Cashflow= tk.get_financial_statement('SENCO.NS', 'cashflow')\n",
    "year= Balance_sheet.columns"
   ]
  },
  {
   "cell_type": "markdown",
   "metadata": {},
   "source": [
    "def F_EQ_OFFER(delta_new_equity):\n",
    "\n",
    "    if delta_new_equity == 0:\n",
    "        return 1\n",
    "    else:\n",
    "        return 0"
   ]
  },
  {
   "cell_type": "code",
   "execution_count": 45,
   "metadata": {},
   "outputs": [
    {
     "name": "stdout",
     "output_type": "stream",
     "text": [
      "<class 'function'>\n",
      "<class 'function'>\n"
     ]
    }
   ],
   "source": [
    "print(type(tk.rows))\n",
    "print(type(tk.get_financial_statement))"
   ]
  },
  {
   "cell_type": "code",
   "execution_count": 46,
   "metadata": {},
   "outputs": [],
   "source": [
    "def rows(ticker_symbol, statement_type):\n",
    "    company = yf.Ticker(ticker_symbol)\n",
    "\n",
    "    if statement_type == 'balance_sheet':\n",
    "        return company.balance_sheet.index.tolist()\n",
    "    elif statement_type == 'income_stmt':\n",
    "        return company.income_stmt.index.tolist()\n",
    "    elif statement_type == 'cashflow':\n",
    "        return company.cashflow.index.tolist()\n",
    "    else:\n",
    "        raise ValueError(\"Invalid statement_type. Choose from 'balance_sheet', 'income_stmt', or 'cashflow'.\")\n"
   ]
  },
  {
   "cell_type": "code",
   "execution_count": 47,
   "metadata": {},
   "outputs": [],
   "source": [
    "#rows('msft', 'income_stmt')"
   ]
  },
  {
   "cell_type": "code",
   "execution_count": 48,
   "metadata": {},
   "outputs": [],
   "source": [
    "delta_margin= Income_statement.loc['Net Income', year[0]]/Income_statement.loc['Total Revenue', year[0]]-Income_statement.loc['Net Income', year[1]]/Income_statement.loc['Total Revenue', year[1]]"
   ]
  },
  {
   "cell_type": "code",
   "execution_count": 49,
   "metadata": {},
   "outputs": [],
   "source": [
    "def F_score(delta_margin):\n",
    "\n",
    "    if delta_margin > 0:\n",
    "        return 1\n",
    "    else:\n",
    "        return 0\n",
    "    \n",
    "F_MARGIN= F_score(delta_margin)    "
   ]
  },
  {
   "cell_type": "code",
   "execution_count": 50,
   "metadata": {},
   "outputs": [
    {
     "data": {
      "text/plain": [
       "0"
      ]
     },
     "execution_count": 50,
     "metadata": {},
     "output_type": "execute_result"
    }
   ],
   "source": [
    "F_MARGIN"
   ]
  },
  {
   "cell_type": "code",
   "execution_count": 51,
   "metadata": {},
   "outputs": [],
   "source": [
    "delta_asset_turnover= Income_statement.loc['Total Revenue', year[0]]/Balance_sheet.loc['Total Assets', year[0]]-Income_statement.loc['Total Revenue', year[1]]/Balance_sheet.loc['Total Assets', year[1]]"
   ]
  },
  {
   "cell_type": "code",
   "execution_count": 52,
   "metadata": {},
   "outputs": [],
   "source": [
    "F_Turnover= F_score(delta_asset_turnover)"
   ]
  },
  {
   "cell_type": "code",
   "execution_count": 53,
   "metadata": {},
   "outputs": [
    {
     "data": {
      "text/plain": [
       "0"
      ]
     },
     "execution_count": 53,
     "metadata": {},
     "output_type": "execute_result"
    }
   ],
   "source": [
    "F_MARGIN \n"
   ]
  },
  {
   "cell_type": "code",
   "execution_count": 54,
   "metadata": {},
   "outputs": [
    {
     "data": {
      "text/plain": [
       "1"
      ]
     },
     "execution_count": 54,
     "metadata": {},
     "output_type": "execute_result"
    }
   ],
   "source": [
    "F_Turnover"
   ]
  },
  {
   "cell_type": "code",
   "execution_count": null,
   "metadata": {},
   "outputs": [],
   "source": []
  }
 ],
 "metadata": {
  "kernelspec": {
   "display_name": "Python 3",
   "language": "python",
   "name": "python3"
  },
  "language_info": {
   "codemirror_mode": {
    "name": "ipython",
    "version": 3
   },
   "file_extension": ".py",
   "mimetype": "text/x-python",
   "name": "python",
   "nbconvert_exporter": "python",
   "pygments_lexer": "ipython3",
   "version": "3.11.9"
  }
 },
 "nbformat": 4,
 "nbformat_minor": 2
}
